{
 "cells": [
  {
   "cell_type": "markdown",
   "metadata": {},
   "source": [
    "<h1> Imports </h1>\n",
    "<h1 style=\"color:green;\">Importações das bibliotecas</h1>"
   ]
  },
  {
   "cell_type": "code",
   "execution_count": 8,
   "metadata": {},
   "outputs": [],
   "source": [
    "import pandas as pd\n",
    "import warnings\n",
    "warnings.filterwarnings(\"ignore\")\n",
    "pd.set_option('display.max_columns', 20)\n",
    "pd.set_option('display.width', 1000)"
   ]
  },
  {
   "cell_type": "markdown",
   "metadata": {},
   "source": [
    "<h1> Load Data</h1>\n",
    "<h1 style=\"color:green;\">Leitura da base de dados</h1>"
   ]
  },
  {
   "cell_type": "code",
   "execution_count": 9,
   "metadata": {},
   "outputs": [
    {
     "data": {
      "text/plain": [
       "(302070, 12)"
      ]
     },
     "execution_count": 9,
     "metadata": {},
     "output_type": "execute_result"
    }
   ],
   "source": [
    "df = pd.read_csv(\"./data/ceaps_2008_to_2022.csv\")\n",
    "df.shape"
   ]
  },
  {
   "cell_type": "markdown",
   "metadata": {},
   "source": [
    "<h1> Data Cleaning </h1>\n",
    "<h1 style=\"color:green;\"> Limpeza dos Dados</h1>\n",
    "\n",
    "<p>It is important to analyze the quality of the dataset for consistency of information and results at the end of the analysis.</p>\n",
    "<p style=\"color:green;\"> É importante analisar a qualidade dos dados, para que no final das análises as informações e resultados sejam consistentes.</p>\n",
    "\n",
    "<details>\n",
    "    <summary><h3>What can be done? <p style=\"color:green;\">O que pode ser feito?</h3> </p> </summary>\n",
    "\n",
    "\n",
    "* check for duplicates or irrelevant columns <p style=\"color:green;\"> verifique se há duplicatas ou colunas irrelevantes </p>\n",
    "\n",
    "* check missing values <p style=\"color:green;\"> verifique os valores ausentes </p>\n",
    "\n",
    "* check unique values <p style=\"color:green;\"> verifique os valores únicos das colunas </p>\n",
    "\n",
    "* check column type <p style=\"color:green;\"> verifique os tipos dos campos </p>\n",
    "\n",
    "* check min and max column values <p style=\"color:green;\"> verifique os valores máximos e mínimos das colunas buscando alguma irreguraridade com a realidade </p>\n",
    "\n",
    "* check entries like: Gender column: your entries are \"F\" or Femine. Note that both have the same meaning but different values, this needs to be addressed <p style=\"color:green;\">  verifique os valores de entrada, por exemplo: existe a coluna genero: esse compo possui valores do tipo \"F\" e \"Feminino\". Ambos tem o mesmo significado, mas estão com valores distintos </p>\n",
    "    \n",
    "* check which variables make sense to analyze, which ones can be discarded <p style=\"color:green;\"> verifique quais variáveis fazem sentido analisar e quais podem ser descartados </p>\n",
    "\n",
    "* check if you need to rearrange any field <p style=\"color:green;\"> verifique se há a necessidade de reorganizar algum campo, por exemplo desmbrar data e hora em um campo só de data, outro só de hora </p>\n",
    "    \n",
    "* make sure the information is reliable <p style=\"color:green;\"> verifique se as informações são confiáveis </p>\n",
    "\n",
    "</details>"
   ]
  },
  {
   "cell_type": "code",
   "execution_count": 10,
   "metadata": {},
   "outputs": [
    {
     "data": {
      "text/html": [
       "<div>\n",
       "<style scoped>\n",
       "    .dataframe tbody tr th:only-of-type {\n",
       "        vertical-align: middle;\n",
       "    }\n",
       "\n",
       "    .dataframe tbody tr th {\n",
       "        vertical-align: top;\n",
       "    }\n",
       "\n",
       "    .dataframe thead th {\n",
       "        text-align: right;\n",
       "    }\n",
       "</style>\n",
       "<table border=\"1\" class=\"dataframe\">\n",
       "  <thead>\n",
       "    <tr style=\"text-align: right;\">\n",
       "      <th></th>\n",
       "      <th>ANO</th>\n",
       "      <th>MES</th>\n",
       "      <th>SENADOR</th>\n",
       "      <th>TIPO_DESPESA</th>\n",
       "      <th>CNPJ_CPF</th>\n",
       "      <th>FORNECEDOR</th>\n",
       "      <th>DOCUMENTO</th>\n",
       "      <th>DATA</th>\n",
       "      <th>DETALHAMENTO</th>\n",
       "      <th>VALOR_REEMBOLSADO</th>\n",
       "      <th>COD_DOCUMENTO</th>\n",
       "      <th>csv</th>\n",
       "    </tr>\n",
       "  </thead>\n",
       "  <tbody>\n",
       "    <tr>\n",
       "      <th>0</th>\n",
       "      <td>2022</td>\n",
       "      <td>1</td>\n",
       "      <td>ACIR GURGACZ</td>\n",
       "      <td>Aluguel de imóveis para escritório político, c...</td>\n",
       "      <td>004.948.028-63</td>\n",
       "      <td>GILBERTO PISELO DO NASCIMENTO</td>\n",
       "      <td>001/22</td>\n",
       "      <td>03/01/2022</td>\n",
       "      <td>Despesa com pagamento de aluguel de imóvel par...</td>\n",
       "      <td>6000</td>\n",
       "      <td>2173614.0</td>\n",
       "      <td>2022</td>\n",
       "    </tr>\n",
       "    <tr>\n",
       "      <th>1</th>\n",
       "      <td>2022</td>\n",
       "      <td>1</td>\n",
       "      <td>ACIR GURGACZ</td>\n",
       "      <td>Divulgação da atividade parlamentar</td>\n",
       "      <td>26.320.603/0001-64</td>\n",
       "      <td>INFORMANAHORA</td>\n",
       "      <td>000000000000310/A</td>\n",
       "      <td>04/01/2022</td>\n",
       "      <td>Despesa com divulgação da atividade parlamenta...</td>\n",
       "      <td>1500</td>\n",
       "      <td>2173615.0</td>\n",
       "      <td>2022</td>\n",
       "    </tr>\n",
       "    <tr>\n",
       "      <th>2</th>\n",
       "      <td>2022</td>\n",
       "      <td>1</td>\n",
       "      <td>ACIR GURGACZ</td>\n",
       "      <td>Divulgação da atividade parlamentar</td>\n",
       "      <td>13.659.201/0001-47</td>\n",
       "      <td>LINHA PURPURA FOTO E VIDEO LTDA</td>\n",
       "      <td>107</td>\n",
       "      <td>14/01/2022</td>\n",
       "      <td>Despesa com produção de texto e edição de víde...</td>\n",
       "      <td>6000</td>\n",
       "      <td>2173616.0</td>\n",
       "      <td>2022</td>\n",
       "    </tr>\n",
       "    <tr>\n",
       "      <th>3</th>\n",
       "      <td>2022</td>\n",
       "      <td>1</td>\n",
       "      <td>ACIR GURGACZ</td>\n",
       "      <td>Divulgação da atividade parlamentar</td>\n",
       "      <td>23.652.846/0001-01</td>\n",
       "      <td>ROBERTO GUTIERREZ DA ROCHA M.E.I.</td>\n",
       "      <td>187</td>\n",
       "      <td>18/01/2022</td>\n",
       "      <td>Divulgação da atividade parlamentar</td>\n",
       "      <td>1000</td>\n",
       "      <td>2173618.0</td>\n",
       "      <td>2022</td>\n",
       "    </tr>\n",
       "    <tr>\n",
       "      <th>4</th>\n",
       "      <td>2022</td>\n",
       "      <td>1</td>\n",
       "      <td>ACIR GURGACZ</td>\n",
       "      <td>Divulgação da atividade parlamentar</td>\n",
       "      <td>08.941.827/0001-01</td>\n",
       "      <td>RONDONIA DINÂMICA COM. E SERV. DE INFORMÁTICA ...</td>\n",
       "      <td>000000000001772/A</td>\n",
       "      <td>17/01/2022</td>\n",
       "      <td>Divulgação da atividade parlamentar</td>\n",
       "      <td>2000</td>\n",
       "      <td>2173617.0</td>\n",
       "      <td>2022</td>\n",
       "    </tr>\n",
       "  </tbody>\n",
       "</table>\n",
       "</div>"
      ],
      "text/plain": [
       "    ANO  MES       SENADOR                                       TIPO_DESPESA            CNPJ_CPF                                         FORNECEDOR          DOCUMENTO        DATA                                       DETALHAMENTO VALOR_REEMBOLSADO  COD_DOCUMENTO   csv\n",
       "0  2022    1  ACIR GURGACZ  Aluguel de imóveis para escritório político, c...      004.948.028-63                      GILBERTO PISELO DO NASCIMENTO             001/22  03/01/2022  Despesa com pagamento de aluguel de imóvel par...              6000      2173614.0  2022\n",
       "1  2022    1  ACIR GURGACZ                Divulgação da atividade parlamentar  26.320.603/0001-64                                      INFORMANAHORA  000000000000310/A  04/01/2022  Despesa com divulgação da atividade parlamenta...              1500      2173615.0  2022\n",
       "2  2022    1  ACIR GURGACZ                Divulgação da atividade parlamentar  13.659.201/0001-47                    LINHA PURPURA FOTO E VIDEO LTDA                107  14/01/2022  Despesa com produção de texto e edição de víde...              6000      2173616.0  2022\n",
       "3  2022    1  ACIR GURGACZ                Divulgação da atividade parlamentar  23.652.846/0001-01                  ROBERTO GUTIERREZ DA ROCHA M.E.I.                187  18/01/2022                Divulgação da atividade parlamentar              1000      2173618.0  2022\n",
       "4  2022    1  ACIR GURGACZ                Divulgação da atividade parlamentar  08.941.827/0001-01  RONDONIA DINÂMICA COM. E SERV. DE INFORMÁTICA ...  000000000001772/A  17/01/2022                Divulgação da atividade parlamentar              2000      2173617.0  2022"
      ]
     },
     "execution_count": 10,
     "metadata": {},
     "output_type": "execute_result"
    }
   ],
   "source": [
    "df.head()"
   ]
  },
  {
   "cell_type": "code",
   "execution_count": 11,
   "metadata": {},
   "outputs": [
    {
     "name": "stdout",
     "output_type": "stream",
     "text": [
      "ANO                | N uniques__________     12 | % Null__________0.0%\n",
      "MES                | N uniques__________     12 | % Null__________0.0%\n",
      "SENADOR            | N uniques__________    278 | % Null__________0.0%\n",
      "TIPO_DESPESA       | N uniques__________      7 | % Null__________0.0%\n",
      "CNPJ_CPF           | N uniques__________  24153 | % Null__________0.0%\n",
      "FORNECEDOR         | N uniques__________  45921 | % Null__________0.0%\n",
      "DOCUMENTO          | N uniques__________ 195863 | % Null__________6.8156%\n",
      "DATA               | N uniques__________   4476 | % Null__________0.0%\n",
      "DETALHAMENTO       | N uniques__________  94810 | % Null__________40.2751%\n",
      "VALOR_REEMBOLSADO  | N uniques__________  85142 | % Null__________0.0%\n",
      "COD_DOCUMENTO      | N uniques__________ 272692 | % Null__________0.0007%\n",
      "csv                | N uniques__________     12 | % Null__________0.0%\n"
     ]
    }
   ],
   "source": [
    "for column in df.columns:\n",
    "\n",
    "    print(f\"{column: <18} | N uniques{'_'*10}{df[column].nunique(): >7} | % Null{'_'*10}{ round(df[column].isnull().sum() * 100 / len(df), 4)}%\")"
   ]
  },
  {
   "cell_type": "code",
   "execution_count": 12,
   "metadata": {},
   "outputs": [],
   "source": [
    "df = df.drop(columns = ['DOCUMENTO', 'COD_DOCUMENTO'])"
   ]
  },
  {
   "cell_type": "code",
   "execution_count": 13,
   "metadata": {},
   "outputs": [],
   "source": [
    "# Como só o cnpj tem o /, vamos colocar todos eles como jurídico\n",
    "df.loc[df['CNPJ_CPF'].str.contains('/'), 'PESSOA_JURIDICA'] = 1\n",
    "\n",
    "# Agora quem tem o pessoa jurídica == 1, terá nas outras posições NAN, \n",
    "# Logo dá para fazer o filtro e descobrir os cpfs pela presenção do caractere - e o valor NAN em pessoa_juridica\n",
    "df.loc[ df['CNPJ_CPF'].str.contains('-') & df['PESSOA_JURIDICA'].isna() , 'PESSOA_FISICA'] = 1\n",
    "\n",
    "df = df.drop(columns='CNPJ_CPF')"
   ]
  },
  {
   "cell_type": "code",
   "execution_count": 14,
   "metadata": {},
   "outputs": [
    {
     "data": {
      "text/html": [
       "<div>\n",
       "<style scoped>\n",
       "    .dataframe tbody tr th:only-of-type {\n",
       "        vertical-align: middle;\n",
       "    }\n",
       "\n",
       "    .dataframe tbody tr th {\n",
       "        vertical-align: top;\n",
       "    }\n",
       "\n",
       "    .dataframe thead th {\n",
       "        text-align: right;\n",
       "    }\n",
       "</style>\n",
       "<table border=\"1\" class=\"dataframe\">\n",
       "  <thead>\n",
       "    <tr style=\"text-align: right;\">\n",
       "      <th></th>\n",
       "      <th>ANO</th>\n",
       "      <th>MES</th>\n",
       "      <th>SENADOR</th>\n",
       "      <th>TIPO_DESPESA</th>\n",
       "      <th>FORNECEDOR</th>\n",
       "      <th>DATA</th>\n",
       "      <th>DETALHAMENTO</th>\n",
       "      <th>VALOR_REEMBOLSADO</th>\n",
       "      <th>csv</th>\n",
       "      <th>PESSOA_JURIDICA</th>\n",
       "      <th>PESSOA_FISICA</th>\n",
       "    </tr>\n",
       "  </thead>\n",
       "  <tbody>\n",
       "    <tr>\n",
       "      <th>0</th>\n",
       "      <td>2022</td>\n",
       "      <td>1</td>\n",
       "      <td>ACIR GURGACZ</td>\n",
       "      <td>Aluguel de imóveis para escritório político, c...</td>\n",
       "      <td>GILBERTO PISELO DO NASCIMENTO</td>\n",
       "      <td>03/01/2022</td>\n",
       "      <td>Despesa com pagamento de aluguel de imóvel par...</td>\n",
       "      <td>6000</td>\n",
       "      <td>2022</td>\n",
       "      <td>NaN</td>\n",
       "      <td>1.0</td>\n",
       "    </tr>\n",
       "    <tr>\n",
       "      <th>1</th>\n",
       "      <td>2022</td>\n",
       "      <td>1</td>\n",
       "      <td>ACIR GURGACZ</td>\n",
       "      <td>Divulgação da atividade parlamentar</td>\n",
       "      <td>INFORMANAHORA</td>\n",
       "      <td>04/01/2022</td>\n",
       "      <td>Despesa com divulgação da atividade parlamenta...</td>\n",
       "      <td>1500</td>\n",
       "      <td>2022</td>\n",
       "      <td>1.0</td>\n",
       "      <td>NaN</td>\n",
       "    </tr>\n",
       "    <tr>\n",
       "      <th>2</th>\n",
       "      <td>2022</td>\n",
       "      <td>1</td>\n",
       "      <td>ACIR GURGACZ</td>\n",
       "      <td>Divulgação da atividade parlamentar</td>\n",
       "      <td>LINHA PURPURA FOTO E VIDEO LTDA</td>\n",
       "      <td>14/01/2022</td>\n",
       "      <td>Despesa com produção de texto e edição de víde...</td>\n",
       "      <td>6000</td>\n",
       "      <td>2022</td>\n",
       "      <td>1.0</td>\n",
       "      <td>NaN</td>\n",
       "    </tr>\n",
       "    <tr>\n",
       "      <th>3</th>\n",
       "      <td>2022</td>\n",
       "      <td>1</td>\n",
       "      <td>ACIR GURGACZ</td>\n",
       "      <td>Divulgação da atividade parlamentar</td>\n",
       "      <td>ROBERTO GUTIERREZ DA ROCHA M.E.I.</td>\n",
       "      <td>18/01/2022</td>\n",
       "      <td>Divulgação da atividade parlamentar</td>\n",
       "      <td>1000</td>\n",
       "      <td>2022</td>\n",
       "      <td>1.0</td>\n",
       "      <td>NaN</td>\n",
       "    </tr>\n",
       "    <tr>\n",
       "      <th>4</th>\n",
       "      <td>2022</td>\n",
       "      <td>1</td>\n",
       "      <td>ACIR GURGACZ</td>\n",
       "      <td>Divulgação da atividade parlamentar</td>\n",
       "      <td>RONDONIA DINÂMICA COM. E SERV. DE INFORMÁTICA ...</td>\n",
       "      <td>17/01/2022</td>\n",
       "      <td>Divulgação da atividade parlamentar</td>\n",
       "      <td>2000</td>\n",
       "      <td>2022</td>\n",
       "      <td>1.0</td>\n",
       "      <td>NaN</td>\n",
       "    </tr>\n",
       "  </tbody>\n",
       "</table>\n",
       "</div>"
      ],
      "text/plain": [
       "    ANO  MES       SENADOR                                       TIPO_DESPESA                                         FORNECEDOR        DATA                                       DETALHAMENTO VALOR_REEMBOLSADO   csv  PESSOA_JURIDICA  PESSOA_FISICA\n",
       "0  2022    1  ACIR GURGACZ  Aluguel de imóveis para escritório político, c...                      GILBERTO PISELO DO NASCIMENTO  03/01/2022  Despesa com pagamento de aluguel de imóvel par...              6000  2022              NaN            1.0\n",
       "1  2022    1  ACIR GURGACZ                Divulgação da atividade parlamentar                                      INFORMANAHORA  04/01/2022  Despesa com divulgação da atividade parlamenta...              1500  2022              1.0            NaN\n",
       "2  2022    1  ACIR GURGACZ                Divulgação da atividade parlamentar                    LINHA PURPURA FOTO E VIDEO LTDA  14/01/2022  Despesa com produção de texto e edição de víde...              6000  2022              1.0            NaN\n",
       "3  2022    1  ACIR GURGACZ                Divulgação da atividade parlamentar                  ROBERTO GUTIERREZ DA ROCHA M.E.I.  18/01/2022                Divulgação da atividade parlamentar              1000  2022              1.0            NaN\n",
       "4  2022    1  ACIR GURGACZ                Divulgação da atividade parlamentar  RONDONIA DINÂMICA COM. E SERV. DE INFORMÁTICA ...  17/01/2022                Divulgação da atividade parlamentar              2000  2022              1.0            NaN"
      ]
     },
     "execution_count": 14,
     "metadata": {},
     "output_type": "execute_result"
    }
   ],
   "source": [
    "df.head()"
   ]
  },
  {
   "cell_type": "code",
   "execution_count": null,
   "metadata": {},
   "outputs": [],
   "source": []
  }
 ],
 "metadata": {
  "kernelspec": {
   "display_name": "Python ('koalas-dev-env')",
   "language": "python",
   "name": "python3"
  },
  "language_info": {
   "codemirror_mode": {
    "name": "ipython",
    "version": 3
   },
   "file_extension": ".py",
   "mimetype": "text/x-python",
   "name": "python",
   "nbconvert_exporter": "python",
   "pygments_lexer": "ipython3",
   "version": "3.9.7"
  },
  "orig_nbformat": 4,
  "vscode": {
   "interpreter": {
    "hash": "25a19fbe0a9132dfb9279d48d161753c6352f8f9478c2e74383d340069b907c3"
   }
  }
 },
 "nbformat": 4,
 "nbformat_minor": 2
}
